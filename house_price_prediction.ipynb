{
 "cells": [
  {
   "cell_type": "code",
   "execution_count": 4,
   "metadata": {
    "_cell_guid": "b1076dfc-b9ad-4769-8c92-a6c4dae69d19",
    "_uuid": "8f2839f25d086af736a60e9eeb907d3b93b6e0e5"
   },
   "outputs": [],
   "source": [
    "# This Python 3 environment comes with many helpful analytics libraries installed\n",
    "# It is defined by the kaggle/python Docker image: https://github.com/kaggle/docker-python\n",
    "# For example, here's several helpful packages to load\n",
    "\n",
    "import numpy as np # linear algebra\n",
    "import pandas as pd # data processing, CSV file I/O (e.g. pd.read_csv)\n",
    "\n",
    "import matplotlib.pyplot as plt\n",
    "%matplotlib inline\n",
    "import seaborn as sns\n",
    "\n",
    "import missingno as msno \n",
    "\n",
    "from sklearn import preprocessing\n",
    "\n",
    "# Input data files are available in the read-only \"../input/\" directory\n",
    "# For example, running this (by clicking run or pressing Shift+Enter) will list all files under the input directory\n",
    "\n",
    "import os\n",
    "for dirname, _, filenames in os.walk('/kaggle/input'):\n",
    "    for filename in filenames:\n",
    "        print(os.path.join(dirname, filename))\n",
    "\n",
    "# You can write up to 5GB to the current directory (/kaggle/working/) that gets preserved as output when you create a version using \"Save & Run All\" \n",
    "# You can also write temporary files to /kaggle/temp/, but they won't be saved outside of the current session"
   ]
  },
  {
   "cell_type": "code",
   "execution_count": 5,
   "metadata": {
    "_cell_guid": "79c7e3d0-c299-4dcb-8224-4455121ee9b0",
    "_uuid": "d629ff2d2480ee46fbb7e2d37f6b5fab8052498a"
   },
   "outputs": [
    {
    }
   ],
   "source": [
    "train_data = pd.read_csv('/kaggle/input/home-data-for-ml-course/train.csv')\n",
    "test_data = pd.read_csv('/kaggle/input/home-data-for-ml-course/test.csv')\n",
    "\n",
    "train_data['train_test'] = 1\n",
    "test_data['train_test'] = 0\n",
    "\n",
    "test_data['SalePrice'] = np.NaN\n",
    "\n",
    "all_data = pd.concat([train_data, test_data])"
   ]
  },
  {
   "cell_type": "code",
   "execution_count": null,
   "metadata": {},
   "outputs": [],
   "source": [
    "data_desc = open('/kaggle/input/home-data-for-ml-course/data_description.txt', 'r')\n",
    "for line in data_desc.readlines():\n",
    "    print(line)"
   ]
  },
  {
   "cell_type": "markdown",
   "metadata": {},
   "source": [
    "# Exploratory Data Analysis:"
   ]
  },
  {
   "cell_type": "code",
   "execution_count": null,
   "metadata": {},
   "outputs": [],
   "source": [
    "all_data.shape"
   ]
  },
  {
   "cell_type": "code",
   "execution_count": null,
   "metadata": {},
   "outputs": [],
   "source": [
    "all_data.describe()"
   ]
  },
  {
   "cell_type": "code",
   "execution_count": null,
   "metadata": {},
   "outputs": [],
   "source": [
    "all_data.head()"
   ]
  },
  {
   "cell_type": "markdown",
   "metadata": {},
   "source": [
    "## Address data skew in target variable:"
   ]
  },
  {
   "cell_type": "code",
   "execution_count": null,
   "metadata": {},
   "outputs": [],
   "source": [
    "plt.figure(figsize=(10,3))\n",
    "\n",
    "sns.distplot(all_data['SalePrice'])"
   ]
  },
  {
   "cell_type": "code",
   "execution_count": null,
   "metadata": {},
   "outputs": [],
   "source": [
    "plt.figure(figsize=(10,3))\n",
    "\n",
    "sns.distplot(np.log(all_data['SalePrice']))"
   ]
  },
  {
   "cell_type": "code",
   "execution_count": null,
   "metadata": {},
   "outputs": [],
   "source": [
    "all_data['SalePrice_log'] = np.log(all_data['SalePrice'])\n",
    "all_data = all_data.drop('SalePrice', axis=1)"
   ]
  },
  {
   "cell_type": "markdown",
   "metadata": {},
   "source": [
    "## Categorical features:"
   ]
  },
  {
   "cell_type": "code",
   "execution_count": null,
   "metadata": {},
   "outputs": [],
   "source": [
    "cat_features = all_data.select_dtypes(include='object')\n",
    "\n",
    "cat_features.columns"
   ]
  },
  {
   "cell_type": "code",
   "execution_count": null,
   "metadata": {},
   "outputs": [],
   "source": [
    "plt.figure(figsize=(15,6))\n",
    "msno.matrix(cat_features)"
   ]
  },
  {
   "cell_type": "markdown",
   "metadata": {},
   "source": [
    "### Univariate analysis:"
   ]
  },
  {
   "cell_type": "code",
   "execution_count": null,
   "metadata": {},
   "outputs": [],
   "source": [
    "f = plt.figure(figsize=(30,20))\n",
    "\n",
    "i = 1\n",
    "for column in cat_features:\n",
    "    f.add_subplot(8, 8, i+1)\n",
    "    sns.barplot(x = cat_features[column].value_counts(), y=cat_features[column].value_counts().values)\n",
    "    i += 1\n",
    "\n",
    "plt.tight_layout()\n",
    "plt.show()"
   ]
  },
  {
   "cell_type": "markdown",
   "metadata": {},
   "source": [
    "### Bivariate analysis:"
   ]
  },
  {
   "cell_type": "code",
   "execution_count": null,
   "metadata": {},
   "outputs": [],
   "source": [
    "f = plt.figure(figsize=(30,30))\n",
    "\n",
    "i = 1\n",
    "for column in cat_features:\n",
    "    f.add_subplot(8, 8, i+1)\n",
    "    sns.boxplot(x = cat_features[column], y=all_data['SalePrice_log'])\n",
    "    plt.xticks(rotation=60)\n",
    "    i += 1\n",
    "\n",
    "plt.tight_layout()\n",
    "plt.show()"
   ]
  },
  {
   "cell_type": "markdown",
   "metadata": {},
   "source": [
    "## Numerical features:"
   ]
  },
  {
   "cell_type": "code",
   "execution_count": null,
   "metadata": {},
   "outputs": [],
   "source": [
    "num_features = all_data.select_dtypes(exclude='object')\n",
    "\n",
    "num_features = num_features.drop((['Id','SalePrice_log', 'train_test']), axis=1)\n",
    "\n",
    "num_features.columns"
   ]
  },
  {
   "cell_type": "markdown",
   "metadata": {},
   "source": [
    "### Univariate analysis:"
   ]
  },
  {
   "cell_type": "code",
   "execution_count": null,
   "metadata": {},
   "outputs": [],
   "source": [
    "f = plt.figure(figsize=(30,30))\n",
    "\n",
    "i = 1\n",
    "for column in num_features:\n",
    "    f.add_subplot(8, 8, i+1)\n",
    "    sns.distplot(num_features[column], kde=False)\n",
    "    plt.xticks(rotation=60)\n",
    "    i += 1\n",
    "\n",
    "plt.tight_layout()\n",
    "plt.show()"
   ]
  },
  {
   "cell_type": "markdown",
   "metadata": {},
   "source": [
    "### Bivariate analysis:"
   ]
  },
  {
   "cell_type": "code",
   "execution_count": null,
   "metadata": {},
   "outputs": [],
   "source": [
    "f = plt.figure(figsize=(30,30))\n",
    "\n",
    "i = 1\n",
    "for column in num_features:\n",
    "    f.add_subplot(8, 8, i+1)\n",
    "    sns.scatterplot(num_features[column], all_data['SalePrice_log'])\n",
    "    plt.xticks(rotation=60)\n",
    "    i += 1\n",
    "\n",
    "plt.tight_layout()\n",
    "plt.show()"
   ]
  },
  {
   "cell_type": "markdown",
   "metadata": {},
   "source": [
    "**Notes for Data Cleaning & Preprocessing:**\n",
    "\n",
    "Based on a first viewing of the scatter plots against SalePrice, there appear to be a few outliers on the:\n",
    "* LotFrontage (say, >200) and LotArea (>100000) data.\n",
    "* BsmtFinSF1 (>4000) and TotalBsmtSF (>6000)\n",
    "* 1stFlrSF (>4000)\n",
    "* GrLivArea (>4000 AND SalePrice <300000)\n",
    "* LowQualFinSF (>550)"
   ]
  },
  {
   "cell_type": "markdown",
   "metadata": {},
   "source": [
    "### Correlations between variables:"
   ]
  },
  {
   "cell_type": "code",
   "execution_count": null,
   "metadata": {},
   "outputs": [],
   "source": [
    "plt.figure(figsize=(10,8))\n",
    "sns.heatmap(all_data.corr())\n",
    "\n",
    "plt.title(\"Correlations between variables\")"
   ]
  },
  {
   "cell_type": "markdown",
   "metadata": {},
   "source": [
    "# Preprocessing:"
   ]
  },
  {
   "cell_type": "markdown",
   "metadata": {},
   "source": [
    "## Categorical features:"
   ]
  },
  {
   "cell_type": "code",
   "execution_count": null,
   "metadata": {},
   "outputs": [],
   "source": [
    "cat_features.columns"
   ]
  },
  {
   "cell_type": "code",
   "execution_count": null,
   "metadata": {},
   "outputs": [],
   "source": [
    "cat_features.isnull().sum()[cat_features.isnull().sum()>0].sort_values(ascending=False)"
   ]
  },
  {
   "cell_type": "markdown",
   "metadata": {},
   "source": [
    "### Transform existing features into new, more useful features:\n",
    "Many of the existing features have null values, which reflects the existence or otherwise of a given attribute in each house (eg. with/without a pool). I am transforming these features into binary features, in order to make the data easier for the model to learn from:"
   ]
  },
  {
   "cell_type": "markdown",
   "metadata": {},
   "source": [
    "#### Air conditioning:"
   ]
  },
  {
   "cell_type": "code",
   "execution_count": null,
   "metadata": {},
   "outputs": [],
   "source": [
    "cat_features['CentralAir'].value_counts()"
   ]
  },
  {
   "cell_type": "code",
   "execution_count": null,
   "metadata": {},
   "outputs": [],
   "source": [
    "def yn(x):\n",
    "    if x == 'Y':\n",
    "        y = 1\n",
    "    else:\n",
    "        y = 0\n",
    "    return y\n",
    "\n",
    "cat_features['AirConditioning'] = cat_features['CentralAir'].apply(yn)"
   ]
  },
  {
   "cell_type": "code",
   "execution_count": null,
   "metadata": {},
   "outputs": [],
   "source": [
    "sns.swarmplot(x=cat_features['AirConditioning'], y=all_data['SalePrice_log'])"
   ]
  },
  {
   "cell_type": "markdown",
   "metadata": {},
   "source": [
    "#### Create 'Has...' features from null values:"
   ]
  },
  {
   "cell_type": "code",
   "execution_count": null,
   "metadata": {},
   "outputs": [],
   "source": [
    "derived_cat_features = {\n",
    "'HasPool' : 'PoolQC',\n",
    "'HasFence' : 'Fence',\n",
    "'HasFireplace' : 'FireplaceQu',\n",
    "'HasGarage' : 'GarageQual',\n",
    "'HasBsmt' : 'BsmtExposure',\n",
    "'HasAlley' : 'Alley'\n",
    "}\n",
    "\n",
    "def convert_to_binary(x):\n",
    "    if x == 'None':\n",
    "        y = 0\n",
    "    else:\n",
    "        y = 1\n",
    "    return y\n",
    "\n",
    "for new_feat, old_feat in derived_cat_features.items():\n",
    "    print(new_feat)\n",
    "    cat_features[old_feat] = cat_features[old_feat].fillna('None')\n",
    "    cat_features[new_feat] = cat_features[old_feat].apply(convert_to_binary)"
   ]
  },
  {
   "cell_type": "code",
   "execution_count": null,
   "metadata": {},
   "outputs": [],
   "source": [
    "sns.swarmplot(x=cat_features['HasFireplace'], y=all_data['SalePrice_log'], hue=cat_features['HasFireplace'])"
   ]
  },
  {
   "cell_type": "markdown",
   "metadata": {},
   "source": [
    "### Remove useless features:"
   ]
  },
  {
   "cell_type": "code",
   "execution_count": null,
   "metadata": {},
   "outputs": [],
   "source": [
    "sns.swarmplot(x=cat_features['Alley'], y=all_data['SalePrice_log'], hue=cat_features['HasAlley'])"
   ]
  },
  {
   "cell_type": "code",
   "execution_count": null,
   "metadata": {},
   "outputs": [],
   "source": [
    "# There are too many null values in Alley and PoolQC, making it not useful to learn from\n",
    "del cat_features['Alley']\n",
    "del cat_features['PoolQC']\n",
    "\n",
    "# Exterior of house features are too diverse and have little impact on sale price\n",
    "del cat_features['Exterior1st']\n",
    "del cat_features['Exterior2nd']\n",
    "del cat_features['ExterCond']\n",
    "del cat_features['ExterQual']"
   ]
  },
  {
   "cell_type": "markdown",
   "metadata": {},
   "source": [
    "### Deal with features with high cardinality:"
   ]
  },
  {
   "cell_type": "markdown",
   "metadata": {},
   "source": [
    "### Group variables in features with high cardinality:"
   ]
  },
  {
   "cell_type": "markdown",
   "metadata": {},
   "source": [
    "#### Building type:"
   ]
  },
  {
   "cell_type": "code",
   "execution_count": null,
   "metadata": {},
   "outputs": [],
   "source": [
    "sns.scatterplot(x=all_data['GrLivArea'], y=all_data['SalePrice_log'], hue=cat_features['BldgType'])"
   ]
  },
  {
   "cell_type": "code",
   "execution_count": null,
   "metadata": {},
   "outputs": [],
   "source": [
    "def group_bldgtype(x):\n",
    "    if x in ['TwnhsE', 'Twnhs']:\n",
    "        y = 'Twnhs'\n",
    "    elif x in ['1Fam', '2fmCon']:\n",
    "        y = 'Fam'\n",
    "    else:\n",
    "        y = x\n",
    "    return y\n",
    "\n",
    "cat_features['BldgType'] = cat_features['BldgType'].apply(group_bldgtype)"
   ]
  },
  {
   "cell_type": "markdown",
   "metadata": {},
   "source": [
    "#### Condition1 and Condition2:"
   ]
  },
  {
   "cell_type": "code",
   "execution_count": null,
   "metadata": {},
   "outputs": [],
   "source": [
    "sns.swarmplot(x=cat_features['Condition1'], y=all_data['SalePrice_log'])"
   ]
  },
  {
   "cell_type": "code",
   "execution_count": null,
   "metadata": {},
   "outputs": [],
   "source": [
    "def group_condition(x):\n",
    "    if x in ['PosN', 'PosA']:\n",
    "        y = 'Park'\n",
    "    elif x in ['RRNe', 'RRAe', 'RRAn', 'RRNn']:\n",
    "        y = 'Railroad'\n",
    "    elif x in ['Artery', 'Feedr']:\n",
    "        y = 'Road'\n",
    "    elif x == 'Norm':\n",
    "        y = 'Norm'\n",
    "    return y\n",
    "    \n",
    "cat_features['Condition1_grouped'] = cat_features['Condition1'].apply(group_condition)\n",
    "cat_features['Condition2_grouped'] = cat_features['Condition2'].apply(group_condition)\n",
    "del cat_features['Condition1']\n",
    "del cat_features['Condition2']"
   ]
  },
  {
   "cell_type": "code",
   "execution_count": null,
   "metadata": {},
   "outputs": [],
   "source": [
    "cat_features['Condition1_grouped']"
   ]
  },
  {
   "cell_type": "code",
   "execution_count": null,
   "metadata": {},
   "outputs": [],
   "source": [
    "def encode_conds(df):\n",
    "    col1 = df['Condition1_grouped']\n",
    "    col2 = df['Condition2_grouped']\n",
    "    \n",
    "    park = 0\n",
    "    railroad = 0\n",
    "    road = 0\n",
    "    if (col1 == 'Park') | (col2 == 'Park'):\n",
    "        park = 1\n",
    "    if (col1 == 'Railroad') | (col2 == 'Railroad'):\n",
    "        railroad = 1\n",
    "    if (col1 == 'Road') | (col2 == 'Road'):\n",
    "        road = 1\n",
    "        \n",
    "    return park, railroad, road\n",
    "\n",
    "cat_features['Park'], cat_features['Railroad'], cat_features['Road'] =  cat_features.apply(encode_conds, axis=1)"
   ]
  },
  {
   "cell_type": "markdown",
   "metadata": {},
   "source": [
    "#### Neighborhood:"
   ]
  },
  {
   "cell_type": "code",
   "execution_count": null,
   "metadata": {},
   "outputs": [],
   "source": [
    "plt.figure(figsize=(15,5))\n",
    "sns.swarmplot(x=cat_features['Neighborhood'], y=all_data['SalePrice_log'])"
   ]
  },
  {
   "cell_type": "code",
   "execution_count": null,
   "metadata": {},
   "outputs": [],
   "source": [
    "def group_neigh(x):\n",
    "    if x in ['OldTown', 'BrkSide', 'Sawyer', 'IDOTRR', 'MeadowV', 'Edwards', 'BrDale']:\n",
    "        y = 1\n",
    "    elif x in ['CollgCr', 'Veenker', 'Crawfor', 'Mitchel', 'Somerst', 'NWAmes', 'NAmes', 'SawyerW', 'Timber', 'Gilbert', 'ClearCr', 'NPkVill', 'Blmngtn', 'SWISU', 'Blueste']:\n",
    "        y = 2\n",
    "    elif x in ['NoRidge', 'NridgHt', 'StoneBr']:\n",
    "        y = 3\n",
    "    return y\n",
    "\n",
    "cat_features['Neighborhood_grouped'] = cat_features['Neighborhood'].apply(group_neigh)"
   ]
  },
  {
   "cell_type": "code",
   "execution_count": null,
   "metadata": {},
   "outputs": [],
   "source": [
    "sns.swarmplot(x=cat_features['Neighborhood_grouped'], y=all_data['SalePrice_log'])"
   ]
  },
  {
   "cell_type": "markdown",
   "metadata": {},
   "source": [
    "### Fill remaining missing values with 'None':"
   ]
  },
  {
   "cell_type": "code",
   "execution_count": null,
   "metadata": {},
   "outputs": [],
   "source": [
    "for feat in cat_features:\n",
    "    cat_features[feat] = cat_features[feat].fillna(\"None\")"
   ]
  },
  {
   "cell_type": "markdown",
   "metadata": {},
   "source": [
    "### Encode categorical features:"
   ]
  },
  {
   "cell_type": "code",
   "execution_count": null,
   "metadata": {},
   "outputs": [],
   "source": [
    "all_data = pd.get_dummies(all_data)"
   ]
  },
  {
   "cell_type": "code",
   "execution_count": null,
   "metadata": {},
   "outputs": [],
   "source": [
    "train_X = all_data[all_data['train_test']==1].drop('SalePrice_log', axis=1)\n",
    "train_y = all_data[all_data['train_test']==1]['SalePrice_log']\n",
    "test_X = all_data[all_data['train_test']==0].drop('SalePrice_log', axis=1)"
   ]
  },
  {
   "cell_type": "markdown",
   "metadata": {},
   "source": [
    "## Numerical features:"
   ]
  },
  {
   "cell_type": "code",
   "execution_count": null,
   "metadata": {},
   "outputs": [],
   "source": [
    "num_features.columns"
   ]
  },
  {
   "cell_type": "markdown",
   "metadata": {},
   "source": [
    "### Missing values:"
   ]
  },
  {
   "cell_type": "code",
   "execution_count": null,
   "metadata": {},
   "outputs": [],
   "source": [
    "num_features.isnull().sum()[num_features.isnull().sum()>0].sort_values(ascending=False)"
   ]
  },
  {
   "cell_type": "code",
   "execution_count": null,
   "metadata": {},
   "outputs": [],
   "source": [
    "sns.scatterplot(x=num_features['LotFrontage'], y=all_data['SalePrice_log'])"
   ]
  },
  {
   "cell_type": "code",
   "execution_count": null,
   "metadata": {},
   "outputs": [],
   "source": [
    "num_features['LotFrontage'].fillna(0, inplace=True)"
   ]
  },
  {
   "cell_type": "markdown",
   "metadata": {},
   "source": [
    "### Remove outlier values:"
   ]
  },
  {
   "cell_type": "code",
   "execution_count": null,
   "metadata": {},
   "outputs": [],
   "source": [
    "# Remove outliers based on observations on scatter plots against SalePrice:\n",
    "train_data_only = all_data[all_data['train_test']==1]\n",
    "\n",
    "train_data_only = train_data_only.drop(train_data_only['LotFrontage']\n",
    "                                     [train_data_only['LotFrontage']>200].index)\n",
    "train_data_only = train_data_only.drop(train_data_only['LotArea']\n",
    "                                     [train_data_only['LotArea']>100000].index)\n",
    "train_data_only = train_data_only.drop(train_data_only['BsmtFinSF1']\n",
    "                                     [train_data_only['BsmtFinSF1']>4000].index)\n",
    "train_data_only = train_data_only.drop(train_data_only['TotalBsmtSF']\n",
    "                                     [train_data_only['TotalBsmtSF']>6000].index)\n",
    "train_data_only = train_data_only.drop(train_data_only['1stFlrSF']\n",
    "                                     [train_data_only['1stFlrSF']>4000].index)\n",
    "train_data_only = train_data_only.drop(train_data_only.GrLivArea\n",
    "                                     [(train_data_only['GrLivArea']>4000) & \n",
    "                                      (train_data_only['SalePrice_log']<300000)].index)\n",
    "train_data_only = train_data_only.drop(train_data_only.LowQualFinSF\n",
    "                                     [train_data_only['LowQualFinSF']>550].index)"
   ]
  },
  {
   "cell_type": "markdown",
   "metadata": {},
   "source": [
    "### Normalise all numerical features:"
   ]
  },
  {
   "cell_type": "code",
   "execution_count": null,
   "metadata": {},
   "outputs": [],
   "source": [
    "for column in num_features:\n",
    "    num_features[column + '_log'] = np.log(num_features[column])\n",
    "    num_features.drop(column, axis = 1, inplace=True)"
   ]
  },
  {
   "cell_type": "code",
   "execution_count": 6,
   "metadata": {},
   "outputs": [
    {
     "ename": "NameError",
     "evalue": "name 'num_features' is not defined",
     "output_type": "error",
     "traceback": [
      "\u001b[1;31m---------------------------------------------------------------------------\u001b[0m",
      "\u001b[1;31mNameError\u001b[0m                                 Traceback (most recent call last)",
      "\u001b[1;32m<ipython-input-6-3eb7f8cb89b6>\u001b[0m in \u001b[0;36m<module>\u001b[1;34m\u001b[0m\n\u001b[1;32m----> 1\u001b[1;33m \u001b[0mnum_features\u001b[0m\u001b[1;33m\u001b[0m\u001b[1;33m\u001b[0m\u001b[0m\n\u001b[0m",
      "\u001b[1;31mNameError\u001b[0m: name 'num_features' is not defined"
     ]
    }
   ],
   "source": [
    "num_features"
   ]
  },
  {
   "cell_type": "markdown",
   "metadata": {},
   "source": [
    "# Feature selection and engineering:"
   ]
  },
  {
   "cell_type": "markdown",
   "metadata": {},
   "source": [
    "## SelectFromModel:"
   ]
  },
  {
   "cell_type": "code",
   "execution_count": null,
   "metadata": {},
   "outputs": [],
   "source": []
  },
  {
   "cell_type": "markdown",
   "metadata": {},
   "source": [
    "# Model:"
   ]
  },
  {
   "cell_type": "code",
   "execution_count": null,
   "metadata": {},
   "outputs": [],
   "source": [
    "def inv_y(transformed_y):\n",
    "    return np.exp(transformed_y)"
   ]
  },
  {
   "cell_type": "code",
   "execution_count": null,
   "metadata": {},
   "outputs": [],
   "source": [
    "from sklearn.linear_model import Lasso\n",
    "from sklearn.metrics import mean_absolute_error\n",
    "\n",
    "lasso_model = Lasso(alpha=0.0005, random_state=5)\n",
    "lasso_model.fit(train_X, train_y)\n",
    "lasso_val_predictions = lasso_model.predict(train_X)\n",
    "\n",
    "lasso_val_mae = mean_absolute_error(inv_y(lasso_val_predictions), inv_y(train_y))"
   ]
  },
  {
   "cell_type": "code",
   "execution_count": null,
   "metadata": {},
   "outputs": [],
   "source": [
    "from sklearn.model_selection import GridSearchCV\n",
    "\n",
    "# Tuning Lasso\n",
    "param_grid = [{'alpha': [0.0007, 0.0005, 0.005]}]\n",
    "top_reg = Lasso()\n",
    "\n",
    "grid_search = GridSearchCV(top_reg, param_grid, cv=5, \n",
    "                           scoring='neg_mean_squared_error')\n",
    "grid_search.fit(train_X, train_y)\n",
    "print(grid_search.best_params_)"
   ]
  },
  {
   "cell_type": "markdown",
   "metadata": {},
   "source": [
    "# Submission:"
   ]
  },
  {
   "cell_type": "code",
   "execution_count": null,
   "metadata": {},
   "outputs": [],
   "source": [
    "final_model = Lasso(alpha=0.0005, random_state=5)\n",
    "\n",
    "final_model.fit(train_X, train_y)\n",
    "\n",
    "predictions = final_model.predict(test_X).astype(int)\n",
    "\n",
    "output = pd.DataFrame({'Id': test_data.Id, 'SalePrice': inv_y(predictions)})\n",
    "output.to_csv('my_submission.csv', index=False)\n",
    "print(\"Your submission was successfully saved!\")"
   ]
  },
  {
   "cell_type": "code",
   "execution_count": null,
   "metadata": {},
   "outputs": [],
   "source": [
    "output.head(20)"
   ]
  }
 ],
 "metadata": {
  "kernelspec": {
   "display_name": "Python 3",
   "language": "python",
   "name": "python3"
  },
  "language_info": {
   "codemirror_mode": {
    "name": "ipython",
    "version": 3
   },
   "file_extension": ".py",
   "mimetype": "text/x-python",
   "name": "python",
   "nbconvert_exporter": "python",
   "pygments_lexer": "ipython3",
   "version": "3.7.6"
  },
  "toc": {
   "base_numbering": 1,
   "nav_menu": {},
   "number_sections": true,
   "sideBar": true,
   "skip_h1_title": false,
   "title_cell": "Table of Contents",
   "title_sidebar": "Contents",
   "toc_cell": false,
   "toc_position": {},
   "toc_section_display": true,
   "toc_window_display": false
  }
 },
 "nbformat": 4,
 "nbformat_minor": 4
}
